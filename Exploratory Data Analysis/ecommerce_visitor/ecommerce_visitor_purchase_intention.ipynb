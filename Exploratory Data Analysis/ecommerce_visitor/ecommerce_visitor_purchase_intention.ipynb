{
  "nbformat": 4,
  "nbformat_minor": 0,
  "metadata": {
    "colab": {
      "name": "CMT307_Coursework.ipynb",
      "provenance": [],
      "collapsed_sections": [
        "UCtR2VlD72NR",
        "y3dynlxF79xA",
        "kQzLlP768GDJ"
      ]
    },
    "kernelspec": {
      "name": "python3",
      "display_name": "Python 3"
    },
    "language_info": {
      "name": "python"
    }
  },
  "cells": [
    {
      "cell_type": "markdown",
      "source": [
        "## Importing Required Libraries"
      ],
      "metadata": {
        "id": "RT2ldeTl7tlm"
      }
    },
    {
      "cell_type": "code",
      "execution_count": 1,
      "metadata": {
        "id": "Ni0v2KyOdAJW"
      },
      "outputs": [],
      "source": [
        "#Importing Pandas and NumPy\n",
        "import pandas as pd\n",
        "import numpy as np\n",
        "\n",
        "#Importing Plotting Libraries\n",
        "import matplotlib.pyplot as plt\n",
        "import seaborn as sns\n",
        "\n",
        "from sklearn.preprocessing import StandardScaler\n",
        "from sklearn.model_selection import train_test_split\n",
        "\n",
        "#For RandomForest Implementation\n",
        "from sklearn.ensemble import RandomForestClassifier\n",
        "\n",
        "#Libraries for KNN Implementation\n",
        "from sklearn.neighbors import KNeighborsClassifier\n",
        "from sklearn.model_selection import GridSearchCV\n",
        "\n",
        "#for Support Vector Classifier\n",
        "from  sklearn.svm import SVC\n",
        "\n",
        "#Libraries for Model Evaluation\n",
        "from sklearn.metrics import confusion_matrix,classification_report,roc_curve,roc_auc_score"
      ]
    },
    {
      "cell_type": "markdown",
      "source": [
        "## Data Exploration"
      ],
      "metadata": {
        "id": "UCtR2VlD72NR"
      }
    },
    {
      "cell_type": "code",
      "source": [
        "customer_data = pd.read_csv('Coursework.csv')"
      ],
      "metadata": {
        "id": "OVqxvOWldMq_"
      },
      "execution_count": 2,
      "outputs": []
    },
    {
      "cell_type": "code",
      "source": [
        "categ_columns = ['Weekend','Month','VisitorType','TrafficType','Region','Browser','OperatingSystems','Revenue']"
      ],
      "metadata": {
        "id": "jJCNNfdLdP38"
      },
      "execution_count": 3,
      "outputs": []
    },
    {
      "cell_type": "code",
      "source": [
        "num_cols = [column for column in customer_data.columns if column not in categ_columns]"
      ],
      "metadata": {
        "id": "hgHV6kRIdRxz"
      },
      "execution_count": 4,
      "outputs": []
    },
    {
      "cell_type": "markdown",
      "source": [
        "## Data Encoding for Categorical Columns"
      ],
      "metadata": {
        "id": "y3dynlxF79xA"
      }
    },
    {
      "cell_type": "code",
      "source": [
        "def onehot_encode(df,column,prefix):\n",
        "  df = df.copy()\n",
        "  dummies = pd.get_dummies(df[column],prefix=prefix)\n",
        "  df = pd.concat([df,dummies],axis = 1)\n",
        "  df = df.drop(column,axis = 1)\n",
        "  return df"
      ],
      "metadata": {
        "id": "MFD2aRdkdUCj"
      },
      "execution_count": 5,
      "outputs": []
    },
    {
      "cell_type": "code",
      "source": [
        "customer_data2 = customer_data.copy()\n",
        "customer_data2['Weekend'] = customer_data['Weekend'].astype(np.int)\n",
        "customer_data2['Revenue'] = customer_data['Revenue'].astype(np.int)\n",
        "for col in categ_columns:\n",
        "  if col == 'Revenue':\n",
        "    continue\n",
        "  else:\n",
        "    temp = onehot_encode(customer_data2,col,prefix=col)\n",
        "    customer_data2 = temp"
      ],
      "metadata": {
        "id": "iwsQllFxdWLT"
      },
      "execution_count": 6,
      "outputs": []
    },
    {
      "cell_type": "code",
      "source": [
        "customer_data2.head()"
      ],
      "metadata": {
        "colab": {
          "base_uri": "https://localhost:8080/",
          "height": 0
        },
        "id": "xlIKzLuZdZGa",
        "outputId": "69090bf5-2f6a-4d65-da05-d82543491e00"
      },
      "execution_count": 7,
      "outputs": [
        {
          "output_type": "execute_result",
          "data": {
            "text/html": [
              "\n",
              "  <div id=\"df-5bf7a396-aca5-4843-baec-4a670f3e6544\">\n",
              "    <div class=\"colab-df-container\">\n",
              "      <div>\n",
              "<style scoped>\n",
              "    .dataframe tbody tr th:only-of-type {\n",
              "        vertical-align: middle;\n",
              "    }\n",
              "\n",
              "    .dataframe tbody tr th {\n",
              "        vertical-align: top;\n",
              "    }\n",
              "\n",
              "    .dataframe thead th {\n",
              "        text-align: right;\n",
              "    }\n",
              "</style>\n",
              "<table border=\"1\" class=\"dataframe\">\n",
              "  <thead>\n",
              "    <tr style=\"text-align: right;\">\n",
              "      <th></th>\n",
              "      <th>Administrative</th>\n",
              "      <th>Administrative_Duration</th>\n",
              "      <th>Informational</th>\n",
              "      <th>Informational_Duration</th>\n",
              "      <th>ProductRelated</th>\n",
              "      <th>ProductRelated_Duration</th>\n",
              "      <th>BounceRates</th>\n",
              "      <th>ExitRates</th>\n",
              "      <th>PageValues</th>\n",
              "      <th>SpecialDay</th>\n",
              "      <th>Revenue</th>\n",
              "      <th>Weekend_0</th>\n",
              "      <th>Weekend_1</th>\n",
              "      <th>Month_Aug</th>\n",
              "      <th>Month_Dec</th>\n",
              "      <th>Month_Feb</th>\n",
              "      <th>Month_Jul</th>\n",
              "      <th>Month_June</th>\n",
              "      <th>Month_Mar</th>\n",
              "      <th>Month_May</th>\n",
              "      <th>Month_Nov</th>\n",
              "      <th>Month_Oct</th>\n",
              "      <th>Month_Sep</th>\n",
              "      <th>VisitorType_New_Visitor</th>\n",
              "      <th>VisitorType_Other</th>\n",
              "      <th>VisitorType_Returning_Visitor</th>\n",
              "      <th>TrafficType_1</th>\n",
              "      <th>TrafficType_2</th>\n",
              "      <th>TrafficType_3</th>\n",
              "      <th>TrafficType_4</th>\n",
              "      <th>TrafficType_5</th>\n",
              "      <th>TrafficType_6</th>\n",
              "      <th>TrafficType_7</th>\n",
              "      <th>TrafficType_8</th>\n",
              "      <th>TrafficType_9</th>\n",
              "      <th>TrafficType_10</th>\n",
              "      <th>TrafficType_11</th>\n",
              "      <th>TrafficType_12</th>\n",
              "      <th>TrafficType_13</th>\n",
              "      <th>TrafficType_14</th>\n",
              "      <th>TrafficType_15</th>\n",
              "      <th>TrafficType_16</th>\n",
              "      <th>TrafficType_17</th>\n",
              "      <th>TrafficType_18</th>\n",
              "      <th>TrafficType_19</th>\n",
              "      <th>TrafficType_20</th>\n",
              "      <th>Region_1</th>\n",
              "      <th>Region_2</th>\n",
              "      <th>Region_3</th>\n",
              "      <th>Region_4</th>\n",
              "      <th>Region_5</th>\n",
              "      <th>Region_6</th>\n",
              "      <th>Region_7</th>\n",
              "      <th>Region_8</th>\n",
              "      <th>Region_9</th>\n",
              "      <th>Browser_1</th>\n",
              "      <th>Browser_2</th>\n",
              "      <th>Browser_3</th>\n",
              "      <th>Browser_4</th>\n",
              "      <th>Browser_5</th>\n",
              "      <th>Browser_6</th>\n",
              "      <th>Browser_7</th>\n",
              "      <th>Browser_8</th>\n",
              "      <th>Browser_9</th>\n",
              "      <th>Browser_10</th>\n",
              "      <th>Browser_11</th>\n",
              "      <th>Browser_12</th>\n",
              "      <th>Browser_13</th>\n",
              "      <th>OperatingSystems_1</th>\n",
              "      <th>OperatingSystems_2</th>\n",
              "      <th>OperatingSystems_3</th>\n",
              "      <th>OperatingSystems_4</th>\n",
              "      <th>OperatingSystems_5</th>\n",
              "      <th>OperatingSystems_6</th>\n",
              "      <th>OperatingSystems_7</th>\n",
              "      <th>OperatingSystems_8</th>\n",
              "    </tr>\n",
              "  </thead>\n",
              "  <tbody>\n",
              "    <tr>\n",
              "      <th>0</th>\n",
              "      <td>0</td>\n",
              "      <td>0.0</td>\n",
              "      <td>0</td>\n",
              "      <td>0.0</td>\n",
              "      <td>1</td>\n",
              "      <td>0.000000</td>\n",
              "      <td>0.20</td>\n",
              "      <td>0.20</td>\n",
              "      <td>0.0</td>\n",
              "      <td>0.0</td>\n",
              "      <td>0</td>\n",
              "      <td>1</td>\n",
              "      <td>0</td>\n",
              "      <td>0</td>\n",
              "      <td>0</td>\n",
              "      <td>1</td>\n",
              "      <td>0</td>\n",
              "      <td>0</td>\n",
              "      <td>0</td>\n",
              "      <td>0</td>\n",
              "      <td>0</td>\n",
              "      <td>0</td>\n",
              "      <td>0</td>\n",
              "      <td>0</td>\n",
              "      <td>0</td>\n",
              "      <td>1</td>\n",
              "      <td>1</td>\n",
              "      <td>0</td>\n",
              "      <td>0</td>\n",
              "      <td>0</td>\n",
              "      <td>0</td>\n",
              "      <td>0</td>\n",
              "      <td>0</td>\n",
              "      <td>0</td>\n",
              "      <td>0</td>\n",
              "      <td>0</td>\n",
              "      <td>0</td>\n",
              "      <td>0</td>\n",
              "      <td>0</td>\n",
              "      <td>0</td>\n",
              "      <td>0</td>\n",
              "      <td>0</td>\n",
              "      <td>0</td>\n",
              "      <td>0</td>\n",
              "      <td>0</td>\n",
              "      <td>0</td>\n",
              "      <td>1</td>\n",
              "      <td>0</td>\n",
              "      <td>0</td>\n",
              "      <td>0</td>\n",
              "      <td>0</td>\n",
              "      <td>0</td>\n",
              "      <td>0</td>\n",
              "      <td>0</td>\n",
              "      <td>0</td>\n",
              "      <td>1</td>\n",
              "      <td>0</td>\n",
              "      <td>0</td>\n",
              "      <td>0</td>\n",
              "      <td>0</td>\n",
              "      <td>0</td>\n",
              "      <td>0</td>\n",
              "      <td>0</td>\n",
              "      <td>0</td>\n",
              "      <td>0</td>\n",
              "      <td>0</td>\n",
              "      <td>0</td>\n",
              "      <td>0</td>\n",
              "      <td>1</td>\n",
              "      <td>0</td>\n",
              "      <td>0</td>\n",
              "      <td>0</td>\n",
              "      <td>0</td>\n",
              "      <td>0</td>\n",
              "      <td>0</td>\n",
              "      <td>0</td>\n",
              "    </tr>\n",
              "    <tr>\n",
              "      <th>1</th>\n",
              "      <td>0</td>\n",
              "      <td>0.0</td>\n",
              "      <td>0</td>\n",
              "      <td>0.0</td>\n",
              "      <td>2</td>\n",
              "      <td>64.000000</td>\n",
              "      <td>0.00</td>\n",
              "      <td>0.10</td>\n",
              "      <td>0.0</td>\n",
              "      <td>0.0</td>\n",
              "      <td>0</td>\n",
              "      <td>1</td>\n",
              "      <td>0</td>\n",
              "      <td>0</td>\n",
              "      <td>0</td>\n",
              "      <td>1</td>\n",
              "      <td>0</td>\n",
              "      <td>0</td>\n",
              "      <td>0</td>\n",
              "      <td>0</td>\n",
              "      <td>0</td>\n",
              "      <td>0</td>\n",
              "      <td>0</td>\n",
              "      <td>0</td>\n",
              "      <td>0</td>\n",
              "      <td>1</td>\n",
              "      <td>0</td>\n",
              "      <td>1</td>\n",
              "      <td>0</td>\n",
              "      <td>0</td>\n",
              "      <td>0</td>\n",
              "      <td>0</td>\n",
              "      <td>0</td>\n",
              "      <td>0</td>\n",
              "      <td>0</td>\n",
              "      <td>0</td>\n",
              "      <td>0</td>\n",
              "      <td>0</td>\n",
              "      <td>0</td>\n",
              "      <td>0</td>\n",
              "      <td>0</td>\n",
              "      <td>0</td>\n",
              "      <td>0</td>\n",
              "      <td>0</td>\n",
              "      <td>0</td>\n",
              "      <td>0</td>\n",
              "      <td>1</td>\n",
              "      <td>0</td>\n",
              "      <td>0</td>\n",
              "      <td>0</td>\n",
              "      <td>0</td>\n",
              "      <td>0</td>\n",
              "      <td>0</td>\n",
              "      <td>0</td>\n",
              "      <td>0</td>\n",
              "      <td>0</td>\n",
              "      <td>1</td>\n",
              "      <td>0</td>\n",
              "      <td>0</td>\n",
              "      <td>0</td>\n",
              "      <td>0</td>\n",
              "      <td>0</td>\n",
              "      <td>0</td>\n",
              "      <td>0</td>\n",
              "      <td>0</td>\n",
              "      <td>0</td>\n",
              "      <td>0</td>\n",
              "      <td>0</td>\n",
              "      <td>0</td>\n",
              "      <td>1</td>\n",
              "      <td>0</td>\n",
              "      <td>0</td>\n",
              "      <td>0</td>\n",
              "      <td>0</td>\n",
              "      <td>0</td>\n",
              "      <td>0</td>\n",
              "    </tr>\n",
              "    <tr>\n",
              "      <th>2</th>\n",
              "      <td>0</td>\n",
              "      <td>0.0</td>\n",
              "      <td>0</td>\n",
              "      <td>0.0</td>\n",
              "      <td>1</td>\n",
              "      <td>0.000000</td>\n",
              "      <td>0.20</td>\n",
              "      <td>0.20</td>\n",
              "      <td>0.0</td>\n",
              "      <td>0.0</td>\n",
              "      <td>0</td>\n",
              "      <td>1</td>\n",
              "      <td>0</td>\n",
              "      <td>0</td>\n",
              "      <td>0</td>\n",
              "      <td>1</td>\n",
              "      <td>0</td>\n",
              "      <td>0</td>\n",
              "      <td>0</td>\n",
              "      <td>0</td>\n",
              "      <td>0</td>\n",
              "      <td>0</td>\n",
              "      <td>0</td>\n",
              "      <td>0</td>\n",
              "      <td>0</td>\n",
              "      <td>1</td>\n",
              "      <td>0</td>\n",
              "      <td>0</td>\n",
              "      <td>1</td>\n",
              "      <td>0</td>\n",
              "      <td>0</td>\n",
              "      <td>0</td>\n",
              "      <td>0</td>\n",
              "      <td>0</td>\n",
              "      <td>0</td>\n",
              "      <td>0</td>\n",
              "      <td>0</td>\n",
              "      <td>0</td>\n",
              "      <td>0</td>\n",
              "      <td>0</td>\n",
              "      <td>0</td>\n",
              "      <td>0</td>\n",
              "      <td>0</td>\n",
              "      <td>0</td>\n",
              "      <td>0</td>\n",
              "      <td>0</td>\n",
              "      <td>0</td>\n",
              "      <td>0</td>\n",
              "      <td>0</td>\n",
              "      <td>0</td>\n",
              "      <td>0</td>\n",
              "      <td>0</td>\n",
              "      <td>0</td>\n",
              "      <td>0</td>\n",
              "      <td>1</td>\n",
              "      <td>1</td>\n",
              "      <td>0</td>\n",
              "      <td>0</td>\n",
              "      <td>0</td>\n",
              "      <td>0</td>\n",
              "      <td>0</td>\n",
              "      <td>0</td>\n",
              "      <td>0</td>\n",
              "      <td>0</td>\n",
              "      <td>0</td>\n",
              "      <td>0</td>\n",
              "      <td>0</td>\n",
              "      <td>0</td>\n",
              "      <td>0</td>\n",
              "      <td>0</td>\n",
              "      <td>0</td>\n",
              "      <td>1</td>\n",
              "      <td>0</td>\n",
              "      <td>0</td>\n",
              "      <td>0</td>\n",
              "      <td>0</td>\n",
              "    </tr>\n",
              "    <tr>\n",
              "      <th>3</th>\n",
              "      <td>0</td>\n",
              "      <td>0.0</td>\n",
              "      <td>0</td>\n",
              "      <td>0.0</td>\n",
              "      <td>2</td>\n",
              "      <td>2.666667</td>\n",
              "      <td>0.05</td>\n",
              "      <td>0.14</td>\n",
              "      <td>0.0</td>\n",
              "      <td>0.0</td>\n",
              "      <td>0</td>\n",
              "      <td>1</td>\n",
              "      <td>0</td>\n",
              "      <td>0</td>\n",
              "      <td>0</td>\n",
              "      <td>1</td>\n",
              "      <td>0</td>\n",
              "      <td>0</td>\n",
              "      <td>0</td>\n",
              "      <td>0</td>\n",
              "      <td>0</td>\n",
              "      <td>0</td>\n",
              "      <td>0</td>\n",
              "      <td>0</td>\n",
              "      <td>0</td>\n",
              "      <td>1</td>\n",
              "      <td>0</td>\n",
              "      <td>0</td>\n",
              "      <td>0</td>\n",
              "      <td>1</td>\n",
              "      <td>0</td>\n",
              "      <td>0</td>\n",
              "      <td>0</td>\n",
              "      <td>0</td>\n",
              "      <td>0</td>\n",
              "      <td>0</td>\n",
              "      <td>0</td>\n",
              "      <td>0</td>\n",
              "      <td>0</td>\n",
              "      <td>0</td>\n",
              "      <td>0</td>\n",
              "      <td>0</td>\n",
              "      <td>0</td>\n",
              "      <td>0</td>\n",
              "      <td>0</td>\n",
              "      <td>0</td>\n",
              "      <td>0</td>\n",
              "      <td>1</td>\n",
              "      <td>0</td>\n",
              "      <td>0</td>\n",
              "      <td>0</td>\n",
              "      <td>0</td>\n",
              "      <td>0</td>\n",
              "      <td>0</td>\n",
              "      <td>0</td>\n",
              "      <td>0</td>\n",
              "      <td>1</td>\n",
              "      <td>0</td>\n",
              "      <td>0</td>\n",
              "      <td>0</td>\n",
              "      <td>0</td>\n",
              "      <td>0</td>\n",
              "      <td>0</td>\n",
              "      <td>0</td>\n",
              "      <td>0</td>\n",
              "      <td>0</td>\n",
              "      <td>0</td>\n",
              "      <td>0</td>\n",
              "      <td>0</td>\n",
              "      <td>0</td>\n",
              "      <td>1</td>\n",
              "      <td>0</td>\n",
              "      <td>0</td>\n",
              "      <td>0</td>\n",
              "      <td>0</td>\n",
              "      <td>0</td>\n",
              "    </tr>\n",
              "    <tr>\n",
              "      <th>4</th>\n",
              "      <td>0</td>\n",
              "      <td>0.0</td>\n",
              "      <td>0</td>\n",
              "      <td>0.0</td>\n",
              "      <td>10</td>\n",
              "      <td>627.500000</td>\n",
              "      <td>0.02</td>\n",
              "      <td>0.05</td>\n",
              "      <td>0.0</td>\n",
              "      <td>0.0</td>\n",
              "      <td>0</td>\n",
              "      <td>0</td>\n",
              "      <td>1</td>\n",
              "      <td>0</td>\n",
              "      <td>0</td>\n",
              "      <td>1</td>\n",
              "      <td>0</td>\n",
              "      <td>0</td>\n",
              "      <td>0</td>\n",
              "      <td>0</td>\n",
              "      <td>0</td>\n",
              "      <td>0</td>\n",
              "      <td>0</td>\n",
              "      <td>0</td>\n",
              "      <td>0</td>\n",
              "      <td>1</td>\n",
              "      <td>0</td>\n",
              "      <td>0</td>\n",
              "      <td>0</td>\n",
              "      <td>1</td>\n",
              "      <td>0</td>\n",
              "      <td>0</td>\n",
              "      <td>0</td>\n",
              "      <td>0</td>\n",
              "      <td>0</td>\n",
              "      <td>0</td>\n",
              "      <td>0</td>\n",
              "      <td>0</td>\n",
              "      <td>0</td>\n",
              "      <td>0</td>\n",
              "      <td>0</td>\n",
              "      <td>0</td>\n",
              "      <td>0</td>\n",
              "      <td>0</td>\n",
              "      <td>0</td>\n",
              "      <td>0</td>\n",
              "      <td>1</td>\n",
              "      <td>0</td>\n",
              "      <td>0</td>\n",
              "      <td>0</td>\n",
              "      <td>0</td>\n",
              "      <td>0</td>\n",
              "      <td>0</td>\n",
              "      <td>0</td>\n",
              "      <td>0</td>\n",
              "      <td>0</td>\n",
              "      <td>0</td>\n",
              "      <td>1</td>\n",
              "      <td>0</td>\n",
              "      <td>0</td>\n",
              "      <td>0</td>\n",
              "      <td>0</td>\n",
              "      <td>0</td>\n",
              "      <td>0</td>\n",
              "      <td>0</td>\n",
              "      <td>0</td>\n",
              "      <td>0</td>\n",
              "      <td>0</td>\n",
              "      <td>0</td>\n",
              "      <td>0</td>\n",
              "      <td>1</td>\n",
              "      <td>0</td>\n",
              "      <td>0</td>\n",
              "      <td>0</td>\n",
              "      <td>0</td>\n",
              "      <td>0</td>\n",
              "    </tr>\n",
              "  </tbody>\n",
              "</table>\n",
              "</div>\n",
              "      <button class=\"colab-df-convert\" onclick=\"convertToInteractive('df-5bf7a396-aca5-4843-baec-4a670f3e6544')\"\n",
              "              title=\"Convert this dataframe to an interactive table.\"\n",
              "              style=\"display:none;\">\n",
              "        \n",
              "  <svg xmlns=\"http://www.w3.org/2000/svg\" height=\"24px\"viewBox=\"0 0 24 24\"\n",
              "       width=\"24px\">\n",
              "    <path d=\"M0 0h24v24H0V0z\" fill=\"none\"/>\n",
              "    <path d=\"M18.56 5.44l.94 2.06.94-2.06 2.06-.94-2.06-.94-.94-2.06-.94 2.06-2.06.94zm-11 1L8.5 8.5l.94-2.06 2.06-.94-2.06-.94L8.5 2.5l-.94 2.06-2.06.94zm10 10l.94 2.06.94-2.06 2.06-.94-2.06-.94-.94-2.06-.94 2.06-2.06.94z\"/><path d=\"M17.41 7.96l-1.37-1.37c-.4-.4-.92-.59-1.43-.59-.52 0-1.04.2-1.43.59L10.3 9.45l-7.72 7.72c-.78.78-.78 2.05 0 2.83L4 21.41c.39.39.9.59 1.41.59.51 0 1.02-.2 1.41-.59l7.78-7.78 2.81-2.81c.8-.78.8-2.07 0-2.86zM5.41 20L4 18.59l7.72-7.72 1.47 1.35L5.41 20z\"/>\n",
              "  </svg>\n",
              "      </button>\n",
              "      \n",
              "  <style>\n",
              "    .colab-df-container {\n",
              "      display:flex;\n",
              "      flex-wrap:wrap;\n",
              "      gap: 12px;\n",
              "    }\n",
              "\n",
              "    .colab-df-convert {\n",
              "      background-color: #E8F0FE;\n",
              "      border: none;\n",
              "      border-radius: 50%;\n",
              "      cursor: pointer;\n",
              "      display: none;\n",
              "      fill: #1967D2;\n",
              "      height: 32px;\n",
              "      padding: 0 0 0 0;\n",
              "      width: 32px;\n",
              "    }\n",
              "\n",
              "    .colab-df-convert:hover {\n",
              "      background-color: #E2EBFA;\n",
              "      box-shadow: 0px 1px 2px rgba(60, 64, 67, 0.3), 0px 1px 3px 1px rgba(60, 64, 67, 0.15);\n",
              "      fill: #174EA6;\n",
              "    }\n",
              "\n",
              "    [theme=dark] .colab-df-convert {\n",
              "      background-color: #3B4455;\n",
              "      fill: #D2E3FC;\n",
              "    }\n",
              "\n",
              "    [theme=dark] .colab-df-convert:hover {\n",
              "      background-color: #434B5C;\n",
              "      box-shadow: 0px 1px 3px 1px rgba(0, 0, 0, 0.15);\n",
              "      filter: drop-shadow(0px 1px 2px rgba(0, 0, 0, 0.3));\n",
              "      fill: #FFFFFF;\n",
              "    }\n",
              "  </style>\n",
              "\n",
              "      <script>\n",
              "        const buttonEl =\n",
              "          document.querySelector('#df-5bf7a396-aca5-4843-baec-4a670f3e6544 button.colab-df-convert');\n",
              "        buttonEl.style.display =\n",
              "          google.colab.kernel.accessAllowed ? 'block' : 'none';\n",
              "\n",
              "        async function convertToInteractive(key) {\n",
              "          const element = document.querySelector('#df-5bf7a396-aca5-4843-baec-4a670f3e6544');\n",
              "          const dataTable =\n",
              "            await google.colab.kernel.invokeFunction('convertToInteractive',\n",
              "                                                     [key], {});\n",
              "          if (!dataTable) return;\n",
              "\n",
              "          const docLinkHtml = 'Like what you see? Visit the ' +\n",
              "            '<a target=\"_blank\" href=https://colab.research.google.com/notebooks/data_table.ipynb>data table notebook</a>'\n",
              "            + ' to learn more about interactive tables.';\n",
              "          element.innerHTML = '';\n",
              "          dataTable['output_type'] = 'display_data';\n",
              "          await google.colab.output.renderOutput(dataTable, element);\n",
              "          const docLink = document.createElement('div');\n",
              "          docLink.innerHTML = docLinkHtml;\n",
              "          element.appendChild(docLink);\n",
              "        }\n",
              "      </script>\n",
              "    </div>\n",
              "  </div>\n",
              "  "
            ],
            "text/plain": [
              "   Administrative  ...  OperatingSystems_8\n",
              "0               0  ...                   0\n",
              "1               0  ...                   0\n",
              "2               0  ...                   0\n",
              "3               0  ...                   0\n",
              "4               0  ...                   0\n",
              "\n",
              "[5 rows x 76 columns]"
            ]
          },
          "metadata": {},
          "execution_count": 7
        }
      ]
    },
    {
      "cell_type": "markdown",
      "source": [
        "## Independent and Dependent fields separation"
      ],
      "metadata": {
        "id": "kQzLlP768GDJ"
      }
    },
    {
      "cell_type": "code",
      "source": [
        "X = customer_data2.drop('Revenue',axis = 1)\n",
        "y = customer_data2['Revenue'].copy()"
      ],
      "metadata": {
        "id": "AXeSfgEZdZLN"
      },
      "execution_count": 8,
      "outputs": []
    },
    {
      "cell_type": "markdown",
      "source": [
        "## Splitting the data as 80:20 ration size with random state 27"
      ],
      "metadata": {
        "id": "8tqwtzAZ8PNZ"
      }
    },
    {
      "cell_type": "code",
      "source": [
        "X_train, X_test, y_train, y_test = train_test_split(X,y,test_size=0.2,random_state=27)"
      ],
      "metadata": {
        "id": "8TaAy8gpdZRT"
      },
      "execution_count": 9,
      "outputs": []
    },
    {
      "cell_type": "markdown",
      "source": [
        "## RandomForest Classifier"
      ],
      "metadata": {
        "id": "iKDoZpJC8ZHM"
      }
    },
    {
      "cell_type": "markdown",
      "source": [
        "param_grid ={\n",
        "    'bootstrap': [True],\n",
        "    'max_depth': [8,9,10],\n",
        "    'max_features' : ['auto'],\n",
        "    'min_samples_leaf':[3,4,5],\n",
        "    'min_samples_split':[2,6,8],\n",
        "    'n_estimators':[100,200,300,1000]\n",
        "}\n",
        "rf_model = GridSearchCV(estimator=rf,param_grid=param_grid,cv=3,n_jobs=None,verbose=2)\n",
        "print('Best grid for GridSearchCV:',rf_model.best_params_)"
      ],
      "metadata": {
        "id": "VdcOqCc-JVEA"
      }
    },
    {
      "cell_type": "code",
      "source": [
        "rf_model = RandomForestClassifier(bootstrap =True,\n",
        "                                  max_depth= 10,\n",
        "                                  max_features= 'auto',\n",
        "                                  min_samples_leaf= 3,\n",
        "                                  min_samples_split= 2,\n",
        "                                  n_estimators= 200)\n",
        "\n",
        "rf_model.fit(X_train, y_train)\n",
        "\n",
        "\n",
        "\n",
        "rf_y_pred = rf_model.predict(X_test)\n",
        "\n",
        "\n",
        "# evaluating the model\n",
        "print(\"Training Accuracy :\", rf_model.score(X_train, y_train))\n",
        "print(\"Testing Accuracy :\", rf_model.score(X_test, y_test))\n",
        "\n",
        "# confusion matrix\n",
        "rf_cm = confusion_matrix(y_test, rf_y_pred)\n",
        "plt.rcParams['figure.figsize'] = (6, 6)\n",
        "sns.heatmap(rf_cm ,annot = True)\n",
        "\n",
        "# classification report\n",
        "rf_cr = classification_report(y_test, rf_y_pred)\n",
        "print(rf_cr)"
      ],
      "metadata": {
        "colab": {
          "base_uri": "https://localhost:8080/",
          "height": 576
        },
        "id": "Fs5aENbXdZqe",
        "outputId": "bd832898-b4b4-48e7-f595-2872de98c3a2"
      },
      "execution_count": 10,
      "outputs": [
        {
          "output_type": "stream",
          "name": "stdout",
          "text": [
            "Training Accuracy : 0.9263990267639902\n",
            "Testing Accuracy : 0.9083536090835361\n",
            "              precision    recall  f1-score   support\n",
            "\n",
            "           0       0.92      0.98      0.95      2109\n",
            "           1       0.80      0.48      0.60       357\n",
            "\n",
            "    accuracy                           0.91      2466\n",
            "   macro avg       0.86      0.73      0.78      2466\n",
            "weighted avg       0.90      0.91      0.90      2466\n",
            "\n"
          ]
        },
        {
          "output_type": "display_data",
          "data": {
            "image/png": "[encoded data removed]",
            "text/plain": [
              "<Figure size 432x432 with 2 Axes>"
            ]
          },
          "metadata": {
            "needs_background": "light"
          }
        }
      ]
    },
    {
      "cell_type": "markdown",
      "source": [
        "## Feature Scaling for KNN and SVC Algorithms"
      ],
      "metadata": {
        "id": "S78Y04Qw8q1L"
      }
    },
    {
      "cell_type": "code",
      "source": [
        "stand_cols = [column for column in customer_data2.columns if column not in num_cols]\n",
        "new_stand_cols = customer_data2.drop(stand_cols,axis=1)\n",
        "\n",
        "scaler = StandardScaler()\n",
        "\n",
        "X_train_stand = X_train.copy()\n",
        "X_test_stand = X_test.copy()\n",
        "\n",
        "# apply standardization on numerical features\n",
        "for i in new_stand_cols.columns:\n",
        "    \n",
        "    # fit on training data column\n",
        "    scale = scaler.fit(X_train_stand[[i]])\n",
        "    \n",
        "    # transform the training data column\n",
        "    X_train_stand[i] = scale.transform(X_train_stand[[i]])\n",
        "    \n",
        "    # transform the testing data column\n",
        "    X_test_stand[i] = scale.transform(X_test_stand[[i]])"
      ],
      "metadata": {
        "id": "LIGbMYhJ7bPh"
      },
      "execution_count": 11,
      "outputs": []
    },
    {
      "cell_type": "markdown",
      "source": [
        "## Model Fitting using KNN Classifier"
      ],
      "metadata": {
        "id": "1UqSV0qq81xR"
      }
    },
    {
      "cell_type": "code",
      "source": [
        "params = {'n_neighbors':[2,3,4,5,6,7,8,9]}\n",
        "\n",
        "knn = KNeighborsClassifier()\n",
        "knn_model = GridSearchCV(knn,params,cv=5)\n",
        "\n",
        "\n",
        "trainX = X_train_stand\n",
        "testX = X_test_stand\n",
        "\n",
        "# fit\n",
        "knn_model.fit(trainX,y_train)\n",
        "# predict\n",
        "print('K Value using GridSearchCV:',knn_model.best_params_)\n",
        "# RMSE\n",
        "knn_y_pred = knn_model.predict(testX)\n",
        "\n",
        "# evaluating the model\n",
        "print(\"Training Accuracy :\", knn_model.score(trainX, y_train))\n",
        "print(\"Testing Accuracy :\", knn_model.score(testX, y_test))\n",
        "\n",
        "# confusion matrix\n",
        "knn_cm = confusion_matrix(y_test, knn_y_pred)\n",
        "plt.rcParams['figure.figsize'] = (6, 6)\n",
        "sns.heatmap(knn_cm ,annot = True)\n",
        "\n",
        "# classification report\n",
        "knn_cr = classification_report(y_test, knn_y_pred)\n",
        "print(knn_cr)"
      ],
      "metadata": {
        "colab": {
          "base_uri": "https://localhost:8080/",
          "height": 595
        },
        "id": "bEKWGcg382va",
        "outputId": "60d95756-f7f7-4b5a-a198-15fc371e7dca"
      },
      "execution_count": 12,
      "outputs": [
        {
          "output_type": "stream",
          "name": "stdout",
          "text": [
            "K Value using GridSearchCV: {'n_neighbors': 9}\n",
            "Training Accuracy : 0.8907137064071371\n",
            "Testing Accuracy : 0.8868613138686131\n",
            "              precision    recall  f1-score   support\n",
            "\n",
            "           0       0.90      0.97      0.94      2109\n",
            "           1       0.70      0.38      0.50       357\n",
            "\n",
            "    accuracy                           0.89      2466\n",
            "   macro avg       0.80      0.68      0.72      2466\n",
            "weighted avg       0.87      0.89      0.87      2466\n",
            "\n"
          ]
        },
        {
          "output_type": "display_data",
          "data": {
            "image/png": "[encoded data removed]",
            "text/plain": [
              "<Figure size 432x432 with 2 Axes>"
            ]
          },
          "metadata": {
            "needs_background": "light"
          }
        }
      ]
    },
    {
      "cell_type": "markdown",
      "source": [
        "## Model Fitting using Support Vector Classifier"
      ],
      "metadata": {
        "id": "44Ebvno0UBVq"
      }
    },
    {
      "cell_type": "code",
      "source": [
        "#To Identify the best parameters\n",
        "#param_grid = {'C': [0.1,1.0,10.0,100.0],'gamma':[0.1,0.01,0.001],'kernel':['rbf','poly','sigmoid']}\n",
        "#svc_model = GridSearchCV(SVC(probability=True),param_grid,refit=True,verbose=2)\n",
        "#print(svc_model.best_estimator_)"
      ],
      "metadata": {
        "id": "gQgvU3gcKrRj"
      },
      "execution_count": 13,
      "outputs": []
    },
    {
      "cell_type": "code",
      "source": [
        "svc_model = SVC(probability=True,kernel='rbf',C=1.0,gamma=0.1)\n",
        "\n",
        "svc_trainX = X_train_stand\n",
        "svc_testX = X_test_stand\n",
        "\n",
        "svc_model.fit(svc_trainX,y_train)"
      ],
      "metadata": {
        "colab": {
          "base_uri": "https://localhost:8080/"
        },
        "id": "p4fIy-_qYPAo",
        "outputId": "52171e9f-244e-428d-8942-8eafea0e6047"
      },
      "execution_count": 14,
      "outputs": [
        {
          "output_type": "execute_result",
          "data": {
            "text/plain": [
              "SVC(gamma=0.1, probability=True)"
            ]
          },
          "metadata": {},
          "execution_count": 14
        }
      ]
    },
    {
      "cell_type": "code",
      "source": [
        "# predict\n",
        "svc_y_pred = svc_model.predict(testX)\n",
        "\n",
        "# evaluating the model\n",
        "print(\"Training Accuracy :\", svc_model.score(trainX, y_train))\n",
        "print(\"Testing Accuracy :\", svc_model.score(testX, y_test))\n",
        "\n",
        "# confusion matrix\n",
        "svc_cm = confusion_matrix(y_test, svc_y_pred)\n",
        "plt.rcParams['figure.figsize'] = (6, 6)\n",
        "sns.heatmap(svc_cm ,annot = True)\n",
        "\n",
        "# classification report\n",
        "svc_cr = classification_report(y_test, svc_y_pred)\n",
        "print(svc_cr)"
      ],
      "metadata": {
        "colab": {
          "base_uri": "https://localhost:8080/",
          "height": 576
        },
        "id": "iUsAL0CXUJkm",
        "outputId": "8cab731f-0309-4bcc-dd3c-f9933e8c3726"
      },
      "execution_count": 15,
      "outputs": [
        {
          "output_type": "stream",
          "name": "stdout",
          "text": [
            "Training Accuracy : 0.9177818329278183\n",
            "Testing Accuracy : 0.8990267639902676\n",
            "              precision    recall  f1-score   support\n",
            "\n",
            "           0       0.92      0.97      0.94      2109\n",
            "           1       0.71      0.50      0.59       357\n",
            "\n",
            "    accuracy                           0.90      2466\n",
            "   macro avg       0.82      0.74      0.77      2466\n",
            "weighted avg       0.89      0.90      0.89      2466\n",
            "\n"
          ]
        },
        {
          "output_type": "display_data",
          "data": {
            "image/png": "[encoded data removed]",
            "text/plain": [
              "<Figure size 432x432 with 2 Axes>"
            ]
          },
          "metadata": {
            "needs_background": "light"
          }
        }
      ]
    },
    {
      "cell_type": "markdown",
      "source": [
        "## Model Performance Evaluation "
      ],
      "metadata": {
        "id": "5HDLM2CkUKtc"
      }
    },
    {
      "cell_type": "code",
      "source": [
        "rf_prob = rf_model.predict_proba(X_test)\n",
        "knn_prob = knn_model.predict_proba(testX)\n",
        "svc_prob = svc_model.predict_proba(svc_testX)"
      ],
      "metadata": {
        "id": "ZWiQij1M8_7N"
      },
      "execution_count": 16,
      "outputs": []
    },
    {
      "cell_type": "code",
      "source": [
        "rf_fpr, rf_tpr, rf_thresh = roc_curve(y_test,rf_prob[:,1],pos_label=1)\n",
        "knn_fpr, knn_tpr, knn_thresh = roc_curve(y_test,knn_prob[:,1],pos_label=1)\n",
        "svc_fpr,svc_tpr,svc_thresh = roc_curve(y_test,svc_prob[:,1],pos_label=1)"
      ],
      "metadata": {
        "id": "GU0zZmTFIMLE"
      },
      "execution_count": 17,
      "outputs": []
    },
    {
      "cell_type": "code",
      "source": [
        "random_probs = [0 for i in range(len(y_test))]\n",
        "\n",
        "p_fpr, p_tpr,_ = roc_curve(y_test,random_probs,pos_label=1)\n",
        "\n",
        "rf_auc_score = roc_auc_score(y_test,rf_prob[:,1])\n",
        "knn_auc_score = roc_auc_score(y_test, knn_prob[:,1])\n",
        "svc_auc_score = roc_auc_score(y_test,svc_prob[:,1])\n",
        "\n",
        "\n",
        "print(rf_auc_score, knn_auc_score,svc_auc_score)"
      ],
      "metadata": {
        "colab": {
          "base_uri": "https://localhost:8080/"
        },
        "id": "kV3wCS54JdkO",
        "outputId": "0b6cabde-f40d-42b9-f53d-440bec6ae748"
      },
      "execution_count": 18,
      "outputs": [
        {
          "output_type": "stream",
          "name": "stdout",
          "text": [
            "0.9244587356042465 0.8363761815774199 0.897112282561199\n"
          ]
        }
      ]
    },
    {
      "cell_type": "code",
      "source": [
        "plt.style.use('seaborn')\n",
        "\n",
        "#plot roc curves\n",
        "plt.plot(rf_fpr,rf_tpr,linestyle='--',color='red',label='RandomForest Regression')\n",
        "plt.plot(knn_fpr,knn_tpr,linestyle='--',color='green',label='KNN')\n",
        "plt.plot(svc_fpr,svc_tpr,linestyle='--',color='black',label='SVC')\n",
        "\n",
        "plt.plot(p_fpr,p_tpr,linestyle='--',color='blue')\n",
        "\n",
        "#title\n",
        "plt.title('ROC Curve')\n",
        "\n",
        "#X label\n",
        "plt.xlabel('False Positive Rate')\n",
        "\n",
        "#y label\n",
        "plt.ylabel('True Positive Rate')\n",
        "\n",
        "plt.legend(loc='best')\n",
        "plt.savefig('ROC',dpi=300)\n",
        "plt.show()"
      ],
      "metadata": {
        "colab": {
          "base_uri": "https://localhost:8080/",
          "height": 375
        },
        "id": "wSe7w5t2LuRB",
        "outputId": "88919193-7fe6-4e58-f7f1-d0f8a3f7af75"
      },
      "execution_count": 19,
      "outputs": [
        {
          "output_type": "display_data",
          "data": {
            "image/png": "[encoded data removed]",
            "text/plain": [
              "<Figure size 576x396 with 1 Axes>"
            ]
          },
          "metadata": {}
        }
      ]
    },
    {
      "cell_type": "markdown",
      "source": [
        "## Conclusion\n",
        "### It is evident from the plot that the AUC for the RandomForest classifier is higher that that for the KNN and SVC ROC curve.Therefore, we can say that RandomForest classifier did a better job of classifying the positive class in dataset "
      ],
      "metadata": {
        "id": "SVhCVsiWqVud"
      }
    }
  ]
}